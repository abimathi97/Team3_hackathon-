{
 "cells": [
  {
   "cell_type": "code",
   "execution_count": 1,
   "id": "27898af4",
   "metadata": {},
   "outputs": [],
   "source": [
    "import tensorflow as tf\n",
    "import numpy as np\n",
    "import matplotlib.pyplot as plt\n",
    "import pandas as pd\n",
    "import os\n",
    "from sklearn.model_selection import train_test_split\n",
    "from tensorflow.keras import Sequential\n",
    "from tensorflow.keras.layers import Dense, Conv3D, MaxPool3D, Conv2D, MaxPool2D\n",
    "from tensorflow.keras.layers import Flatten"
   ]
  },
  {
   "cell_type": "code",
   "execution_count": 2,
   "id": "d63ac676",
   "metadata": {},
   "outputs": [],
   "source": [
    "from tensorflow.keras.backend import manual_variable_initialization \n",
    "manual_variable_initialization(True)"
   ]
  },
  {
   "cell_type": "code",
   "execution_count": 1,
   "id": "44af64e9",
   "metadata": {},
   "outputs": [],
   "source": [
    "def model_builder(n_filter,n_hidden,neuron,act,kernel):\n",
    "    model = Sequential()\n",
    "\n",
    "    n_conv = 2\n",
    "    for j in range(n_conv):\n",
    "        model.add(Conv2D(filters=n_filter,kernel_size=(32,kernel),activation='relu',padding='valid'))\n",
    "        model.add(Conv2D(filters=n_filter,kernel_size=(32,kernel),activation='relu',padding='valid'))\n",
    "    model.add(Flatten())\n",
    "    for i in range(n_hidden):\n",
    "        model.add(Dense(neuron,activation=act))\n",
    "\n",
    "    model.add(Dense(1,activation='sigmoid'))\n",
    "    \n",
    "    model.compile(optimizer=tf.keras.optimizers.Adam(0.0001),loss='binary_crossentropy', metrics= ['accuracy'])    \n",
    "    return model"
   ]
  },
  {
   "cell_type": "code",
   "execution_count": 34,
   "id": "0ca55a3a",
   "metadata": {},
   "outputs": [
    {
     "data": {
      "text/plain": [
       "<tensorflow.python.training.tracking.util.CheckpointLoadStatus at 0x22bcee67070>"
      ]
     },
     "execution_count": 34,
     "metadata": {},
     "output_type": "execute_result"
    }
   ],
   "source": [
    "#Load the trained ML model\n",
    "model1 = model_builder(32,4,400,'relu',3)\n",
    "model1.load_weights('2302/')"
   ]
  },
  {
   "cell_type": "code",
   "execution_count": 23,
   "id": "a048596d",
   "metadata": {},
   "outputs": [],
   "source": [
    "import ifxdaq\n",
    "import processing\n",
    "import numpy as np\n",
    "#print(ifxdaq.__version__)\n",
    "from ifxdaq.sensor.radar_ifx import RadarIfxAvian\n",
    "\n",
    "config_file = \"radar_configs/RadarIfxBGT60.json\"\n",
    "raw_data    = []"
   ]
  },
  {
   "cell_type": "code",
   "execution_count": 26,
   "id": "59ba6c3e",
   "metadata": {},
   "outputs": [],
   "source": [
    "raw_data = []\n",
    "time = 10000\n",
    "with RadarIfxAvian(config_file) as device:                             # Initialize the radar with configurations\n",
    "    \n",
    "    for i_frame, frame in enumerate(device):                           # Loop through the frames coming from the radar\n",
    "        \n",
    "        raw_data.append(np.squeeze(frame['radar'].data/(4095.0)))      # Dividing by 4095.0 to scale the data\n",
    "        \n",
    "        if(len(raw_data) > time-1 and len(raw_data) % time == 0):        # 5000 is the number of frames. which corresponds to 5seconds\n",
    "            \n",
    "            data = np.swapaxes(np.asarray(raw_data), 0, 1)\n",
    "            \n",
    "            range_data, range_idx = processing.processing_rangeData(data)\n",
    "            \n",
    "            \n",
    "            raw = np.abs(np.expand_dims(range_data,axis=3)) * 20\n",
    "            \n",
    "            pred = model1.predict(raw[:,0:-1:10,:,:])\n",
    "            \n",
    "            if sum((pred >= 0.5)*1) > 1:\n",
    "                moving = True\n",
    "                print('Subject is in movement')\n",
    "            else:\n",
    "                moving = False\n",
    "                print('Subject is resting')\n",
    "        \n",
    "        raw_data = []"
   ]
  },
  {
   "cell_type": "code",
   "execution_count": null,
   "id": "ce9598a7",
   "metadata": {},
   "outputs": [],
   "source": []
  }
 ],
 "metadata": {
  "kernelspec": {
   "display_name": "Python 3",
   "language": "python",
   "name": "python3"
  },
  "language_info": {
   "codemirror_mode": {
    "name": "ipython",
    "version": 3
   },
   "file_extension": ".py",
   "mimetype": "text/x-python",
   "name": "python",
   "nbconvert_exporter": "python",
   "pygments_lexer": "ipython3",
   "version": "3.8.8"
  }
 },
 "nbformat": 4,
 "nbformat_minor": 5
}
