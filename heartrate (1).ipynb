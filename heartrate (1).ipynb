{
 "cells": [
  {
   "cell_type": "markdown",
   "id": "177433cb",
   "metadata": {},
   "source": [
    "# Heart rate detection"
   ]
  },
  {
   "cell_type": "markdown",
   "id": "de82c22c",
   "metadata": {},
   "source": [
    "### Importing the dependencies"
   ]
  },
  {
   "cell_type": "code",
   "execution_count": 224,
   "id": "56ef9304",
   "metadata": {},
   "outputs": [],
   "source": [
    "import matplotlib.pyplot as plt\n",
    "import numpy as np\n",
    "import pandas as pd\n",
    "import ifxdaq\n",
    "import processing\n",
    "import numpy as np\n",
    "from ifxdaq.sensor.radar_ifx import RadarIfxAvian"
   ]
  },
  {
   "cell_type": "markdown",
   "id": "d5c17ac1",
   "metadata": {},
   "source": [
    "### Accessing the json configuration file"
   ]
  },
  {
   "cell_type": "code",
   "execution_count": 225,
   "id": "a4ca9bea",
   "metadata": {},
   "outputs": [],
   "source": [
    "config_file = \"radar_configs/RadarIfxBGT60.json\"\n",
    "raw_data    = []"
   ]
  },
  {
   "cell_type": "markdown",
   "id": "7134966a",
   "metadata": {},
   "source": [
    "### Data collection and live detection of the heart rate for a quasi-static person "
   ]
  },
  {
   "cell_type": "code",
   "execution_count": 252,
   "id": "387152b6",
   "metadata": {},
   "outputs": [
    {
     "name": "stdout",
     "output_type": "stream",
     "text": [
      "Your heart rate is 100.0bpm.\n",
      "You are resting now.\n",
      "Your heart rate is 96.0bpm.\n",
      "You are resting now.\n",
      "Your heart rate is 84.0bpm.\n",
      "You are resting now.\n",
      "Your heart rate is 92.0bpm.\n",
      "You are resting now.\n",
      "Your heart rate is 100.0bpm.\n",
      "You are resting now.\n",
      "Your heart rate is 92.0bpm.\n",
      "You are resting now.\n",
      "Your heart rate is 80.0bpm.\n",
      "You are resting now.\n",
      "Your heart rate is 84.0bpm.\n",
      "You are resting now.\n",
      "Your heart rate is 104.0bpm.\n",
      "You are anxious now. Chill down!\n",
      "Your heart rate is 80.0bpm.\n",
      "You are resting now.\n",
      "Your heart rate is 92.0bpm.\n",
      "You are resting now.\n",
      "Your heart rate is 84.0bpm.\n",
      "You are resting now.\n",
      "Your heart rate is 96.0bpm.\n",
      "You are resting now.\n",
      "Your heart rate is 92.0bpm.\n",
      "You are resting now.\n",
      "Your heart rate is 88.0bpm.\n",
      "You are resting now.\n",
      "Your heart rate is 76.0bpm.\n",
      "You are resting now.\n",
      "Your heart rate is 84.0bpm.\n",
      "You are resting now.\n",
      "Your heart rate is 84.0bpm.\n",
      "You are resting now.\n",
      "Your heart rate is 92.0bpm.\n",
      "You are resting now.\n",
      "Your heart rate is 76.0bpm.\n",
      "You are resting now.\n",
      "Your heart rate is 92.0bpm.\n",
      "You are resting now.\n"
     ]
    },
    {
     "ename": "ErrorCommunicationError",
     "evalue": "communication error between host and device (IFX_ERROR_COMMUNICATION_ERROR)",
     "output_type": "error",
     "traceback": [
      "\u001b[1;31m---------------------------------------------------------------------------\u001b[0m",
      "\u001b[1;31mErrorCommunicationError\u001b[0m                   Traceback (most recent call last)",
      "\u001b[1;32m<ipython-input-252-ec16de140256>\u001b[0m in \u001b[0;36m<module>\u001b[1;34m\u001b[0m\n\u001b[0;32m      3\u001b[0m \u001b[1;32mwith\u001b[0m \u001b[0mRadarIfxAvian\u001b[0m\u001b[1;33m(\u001b[0m\u001b[0mconfig_file\u001b[0m\u001b[1;33m)\u001b[0m \u001b[1;32mas\u001b[0m \u001b[0mdevice\u001b[0m\u001b[1;33m:\u001b[0m                             \u001b[1;31m# Initialize the radar with configurations\u001b[0m\u001b[1;33m\u001b[0m\u001b[1;33m\u001b[0m\u001b[0m\n\u001b[0;32m      4\u001b[0m \u001b[1;33m\u001b[0m\u001b[0m\n\u001b[1;32m----> 5\u001b[1;33m     \u001b[1;32mfor\u001b[0m \u001b[0mi_frame\u001b[0m\u001b[1;33m,\u001b[0m \u001b[0mframe\u001b[0m \u001b[1;32min\u001b[0m \u001b[0menumerate\u001b[0m\u001b[1;33m(\u001b[0m\u001b[0mdevice\u001b[0m\u001b[1;33m)\u001b[0m\u001b[1;33m:\u001b[0m                           \u001b[1;31m# Loop through the frames coming from the radar\u001b[0m\u001b[1;33m\u001b[0m\u001b[1;33m\u001b[0m\u001b[0m\n\u001b[0m\u001b[0;32m      6\u001b[0m \u001b[1;33m\u001b[0m\u001b[0m\n\u001b[0;32m      7\u001b[0m         \u001b[0mraw_data\u001b[0m\u001b[1;33m.\u001b[0m\u001b[0mappend\u001b[0m\u001b[1;33m(\u001b[0m\u001b[0mnp\u001b[0m\u001b[1;33m.\u001b[0m\u001b[0msqueeze\u001b[0m\u001b[1;33m(\u001b[0m\u001b[0mframe\u001b[0m\u001b[1;33m[\u001b[0m\u001b[1;34m'radar'\u001b[0m\u001b[1;33m]\u001b[0m\u001b[1;33m.\u001b[0m\u001b[0mdata\u001b[0m\u001b[1;33m/\u001b[0m\u001b[1;33m(\u001b[0m\u001b[1;36m4095.0\u001b[0m\u001b[1;33m)\u001b[0m\u001b[1;33m)\u001b[0m\u001b[1;33m)\u001b[0m      \u001b[1;31m# Dividing by 4095.0 to scale the data\u001b[0m\u001b[1;33m\u001b[0m\u001b[1;33m\u001b[0m\u001b[0m\n",
      "\u001b[1;32m~\\anaconda3\\lib\\site-packages\\ifxdaq\\sensor\\abc.py\u001b[0m in \u001b[0;36m__next__\u001b[1;34m(self)\u001b[0m\n\u001b[0;32m    273\u001b[0m \u001b[1;33m\u001b[0m\u001b[0m\n\u001b[0;32m    274\u001b[0m     \u001b[1;32mdef\u001b[0m \u001b[0m__next__\u001b[0m\u001b[1;33m(\u001b[0m\u001b[0mself\u001b[0m\u001b[1;33m)\u001b[0m \u001b[1;33m->\u001b[0m \u001b[0mDict\u001b[0m\u001b[1;33m[\u001b[0m\u001b[0mstr\u001b[0m\u001b[1;33m,\u001b[0m \u001b[0mOptional\u001b[0m\u001b[1;33m[\u001b[0m\u001b[0mFrame\u001b[0m\u001b[1;33m]\u001b[0m\u001b[1;33m]\u001b[0m\u001b[1;33m:\u001b[0m\u001b[1;33m\u001b[0m\u001b[1;33m\u001b[0m\u001b[0m\n\u001b[1;32m--> 275\u001b[1;33m         \u001b[1;32mreturn\u001b[0m \u001b[0mself\u001b[0m\u001b[1;33m.\u001b[0m\u001b[0mdata\u001b[0m\u001b[1;33m\u001b[0m\u001b[1;33m\u001b[0m\u001b[0m\n\u001b[0m",
      "\u001b[1;32m~\\anaconda3\\lib\\site-packages\\ifxdaq\\sensor\\abc.py\u001b[0m in \u001b[0;36mdata\u001b[1;34m(self)\u001b[0m\n\u001b[0;32m    108\u001b[0m     \u001b[1;32mdef\u001b[0m \u001b[0mdata\u001b[0m\u001b[1;33m(\u001b[0m\u001b[0mself\u001b[0m\u001b[1;33m)\u001b[0m \u001b[1;33m->\u001b[0m \u001b[0mDict\u001b[0m\u001b[1;33m[\u001b[0m\u001b[0mstr\u001b[0m\u001b[1;33m,\u001b[0m \u001b[0mOptional\u001b[0m\u001b[1;33m[\u001b[0m\u001b[0mFrame\u001b[0m\u001b[1;33m]\u001b[0m\u001b[1;33m]\u001b[0m\u001b[1;33m:\u001b[0m\u001b[1;33m\u001b[0m\u001b[1;33m\u001b[0m\u001b[0m\n\u001b[0;32m    109\u001b[0m         \u001b[1;34m\"\"\"Current data frame incl. timestamp.\"\"\"\u001b[0m\u001b[1;33m\u001b[0m\u001b[1;33m\u001b[0m\u001b[0m\n\u001b[1;32m--> 110\u001b[1;33m         \u001b[1;32mreturn\u001b[0m \u001b[0mself\u001b[0m\u001b[1;33m.\u001b[0m\u001b[0m_get_data_from_device\u001b[0m\u001b[1;33m(\u001b[0m\u001b[1;33m)\u001b[0m\u001b[1;33m\u001b[0m\u001b[1;33m\u001b[0m\u001b[0m\n\u001b[0m\u001b[0;32m    111\u001b[0m \u001b[1;33m\u001b[0m\u001b[0m\n\u001b[0;32m    112\u001b[0m     \u001b[1;33m@\u001b[0m\u001b[0mproperty\u001b[0m\u001b[1;33m\u001b[0m\u001b[1;33m\u001b[0m\u001b[0m\n",
      "\u001b[1;32m~\\anaconda3\\lib\\site-packages\\ifxdaq\\sensor\\radar_ifx.py\u001b[0m in \u001b[0;36m_get_data_from_device\u001b[1;34m(self)\u001b[0m\n\u001b[0;32m    199\u001b[0m         \u001b[1;32mfor\u001b[0m \u001b[0mattempt\u001b[0m \u001b[1;32min\u001b[0m \u001b[0mrange\u001b[0m\u001b[1;33m(\u001b[0m\u001b[0mRadarIfxAvian\u001b[0m\u001b[1;33m.\u001b[0m\u001b[0mMAX_RETRIES\u001b[0m\u001b[1;33m)\u001b[0m\u001b[1;33m:\u001b[0m\u001b[1;33m\u001b[0m\u001b[1;33m\u001b[0m\u001b[0m\n\u001b[0;32m    200\u001b[0m             \u001b[1;32mtry\u001b[0m\u001b[1;33m:\u001b[0m\u001b[1;33m\u001b[0m\u001b[1;33m\u001b[0m\u001b[0m\n\u001b[1;32m--> 201\u001b[1;33m                 \u001b[0mdata\u001b[0m \u001b[1;33m=\u001b[0m \u001b[0mself\u001b[0m\u001b[1;33m.\u001b[0m\u001b[0m_device\u001b[0m\u001b[1;33m.\u001b[0m\u001b[0mget_next_frame\u001b[0m\u001b[1;33m(\u001b[0m\u001b[0mRadarIfxAvian\u001b[0m\u001b[1;33m.\u001b[0m\u001b[0mTIMEOUT_MS\u001b[0m\u001b[1;33m)\u001b[0m\u001b[1;33m\u001b[0m\u001b[1;33m\u001b[0m\u001b[0m\n\u001b[0m\u001b[0;32m    202\u001b[0m                 \u001b[0mtimestamp\u001b[0m \u001b[1;33m=\u001b[0m \u001b[0mtime\u001b[0m\u001b[1;33m.\u001b[0m\u001b[0mtime\u001b[0m\u001b[1;33m(\u001b[0m\u001b[1;33m)\u001b[0m\u001b[1;33m\u001b[0m\u001b[1;33m\u001b[0m\u001b[0m\n\u001b[0;32m    203\u001b[0m             \u001b[1;32mexcept\u001b[0m \u001b[0mErrorTimeout\u001b[0m\u001b[1;33m:\u001b[0m\u001b[1;33m\u001b[0m\u001b[1;33m\u001b[0m\u001b[0m\n",
      "\u001b[1;32m~\\anaconda3\\lib\\site-packages\\ifxdaq\\lib\\ifx\\ifxRadarSDK.py\u001b[0m in \u001b[0;36mget_next_frame\u001b[1;34m(self, timeout_ms)\u001b[0m\n\u001b[0;32m    765\u001b[0m         \u001b[1;32melse\u001b[0m\u001b[1;33m:\u001b[0m\u001b[1;33m\u001b[0m\u001b[1;33m\u001b[0m\u001b[0m\n\u001b[0;32m    766\u001b[0m             \u001b[0mframe\u001b[0m \u001b[1;33m=\u001b[0m \u001b[0mdll\u001b[0m\u001b[1;33m.\u001b[0m\u001b[0mifx_avian_get_next_frame\u001b[0m\u001b[1;33m(\u001b[0m\u001b[0mself\u001b[0m\u001b[1;33m.\u001b[0m\u001b[0mhandle\u001b[0m\u001b[1;33m,\u001b[0m \u001b[1;32mNone\u001b[0m\u001b[1;33m)\u001b[0m\u001b[1;33m\u001b[0m\u001b[1;33m\u001b[0m\u001b[0m\n\u001b[1;32m--> 767\u001b[1;33m         \u001b[0mcheck_rc\u001b[0m\u001b[1;33m(\u001b[0m\u001b[1;33m)\u001b[0m\u001b[1;33m\u001b[0m\u001b[1;33m\u001b[0m\u001b[0m\n\u001b[0m\u001b[0;32m    768\u001b[0m         \u001b[0mframe_numpy\u001b[0m \u001b[1;33m=\u001b[0m \u001b[0mframe\u001b[0m\u001b[1;33m.\u001b[0m\u001b[0mcontents\u001b[0m\u001b[1;33m.\u001b[0m\u001b[0mto_numpy\u001b[0m\u001b[1;33m(\u001b[0m\u001b[1;33m)\u001b[0m\u001b[1;33m\u001b[0m\u001b[1;33m\u001b[0m\u001b[0m\n\u001b[0;32m    769\u001b[0m         \u001b[0mdll\u001b[0m\u001b[1;33m.\u001b[0m\u001b[0mifx_cube_destroy_r\u001b[0m\u001b[1;33m(\u001b[0m\u001b[0mframe\u001b[0m\u001b[1;33m)\u001b[0m\u001b[1;33m\u001b[0m\u001b[1;33m\u001b[0m\u001b[0m\n",
      "\u001b[1;32m~\\anaconda3\\lib\\site-packages\\ifxdaq\\lib\\ifx\\ifxRadarSDK.py\u001b[0m in \u001b[0;36mcheck_rc\u001b[1;34m(error_code)\u001b[0m\n\u001b[0;32m    372\u001b[0m \u001b[1;33m\u001b[0m\u001b[0m\n\u001b[0;32m    373\u001b[0m     \u001b[1;32mif\u001b[0m \u001b[0merror_code\u001b[0m\u001b[1;33m:\u001b[0m\u001b[1;33m\u001b[0m\u001b[1;33m\u001b[0m\u001b[0m\n\u001b[1;32m--> 374\u001b[1;33m         \u001b[0mraise_exception_for_error_code\u001b[0m\u001b[1;33m(\u001b[0m\u001b[0merror_code\u001b[0m\u001b[1;33m,\u001b[0m \u001b[0mdll\u001b[0m\u001b[1;33m)\u001b[0m\u001b[1;33m\u001b[0m\u001b[1;33m\u001b[0m\u001b[0m\n\u001b[0m\u001b[0;32m    375\u001b[0m \u001b[1;33m\u001b[0m\u001b[0m\n\u001b[0;32m    376\u001b[0m \u001b[1;32mclass\u001b[0m \u001b[0mDevice\u001b[0m\u001b[1;33m(\u001b[0m\u001b[1;33m)\u001b[0m\u001b[1;33m:\u001b[0m\u001b[1;33m\u001b[0m\u001b[1;33m\u001b[0m\u001b[0m\n",
      "\u001b[1;32m~\\anaconda3\\lib\\site-packages\\ifxdaq\\lib\\ifx\\ifxError.py\u001b[0m in \u001b[0;36mraise_exception_for_error_code\u001b[1;34m(error_code, dll)\u001b[0m\n\u001b[0;32m     39\u001b[0m \u001b[1;33m\u001b[0m\u001b[0m\n\u001b[0;32m     40\u001b[0m     \u001b[1;32mif\u001b[0m \u001b[0merror_code\u001b[0m \u001b[1;32min\u001b[0m \u001b[0merror_mapping_exception\u001b[0m\u001b[1;33m:\u001b[0m\u001b[1;33m\u001b[0m\u001b[1;33m\u001b[0m\u001b[0m\n\u001b[1;32m---> 41\u001b[1;33m         \u001b[1;32mraise\u001b[0m \u001b[0meval\u001b[0m\u001b[1;33m(\u001b[0m\u001b[0merror_mapping_exception\u001b[0m\u001b[1;33m[\u001b[0m\u001b[0merror_code\u001b[0m\u001b[1;33m]\u001b[0m\u001b[1;33m)\u001b[0m\u001b[1;33m(\u001b[0m\u001b[0mdll\u001b[0m\u001b[1;33m)\u001b[0m\u001b[1;33m\u001b[0m\u001b[1;33m\u001b[0m\u001b[0m\n\u001b[0m\u001b[0;32m     42\u001b[0m     \u001b[1;32melse\u001b[0m\u001b[1;33m:\u001b[0m\u001b[1;33m\u001b[0m\u001b[1;33m\u001b[0m\u001b[0m\n\u001b[0;32m     43\u001b[0m         \u001b[1;32mraise\u001b[0m \u001b[0mGeneralError\u001b[0m\u001b[1;33m(\u001b[0m\u001b[0merror_code\u001b[0m\u001b[1;33m,\u001b[0m\u001b[0mdll\u001b[0m\u001b[1;33m)\u001b[0m\u001b[1;33m\u001b[0m\u001b[1;33m\u001b[0m\u001b[0m\n",
      "\u001b[1;31mErrorCommunicationError\u001b[0m: communication error between host and device (IFX_ERROR_COMMUNICATION_ERROR)"
     ]
    }
   ],
   "source": [
    "raw_data = []       \n",
    "time = 15000\n",
    "with RadarIfxAvian(config_file) as device:                             # Initialize the radar with configurations\n",
    "    \n",
    "    for i_frame, frame in enumerate(device):                           # Loop through the frames coming from the radar\n",
    "        \n",
    "        raw_data.append(np.squeeze(frame['radar'].data/(4095.0)))      # Dividing by 4095.0 to scale the data\n",
    "        \n",
    "        if(len(raw_data) > time-1 and len(raw_data) % time == 0):  \n",
    "            \n",
    "            # 5000 is the number of frames. which corresponds to 5seconds\n",
    "        \n",
    "            data = np.swapaxes(np.asarray(raw_data), 0, 1)\n",
    "            \n",
    "            phases, abses, _, _,st_data = processing.do_processing(data)       # preprocessing to get the phase information\n",
    "            range_data, range_idx = processing.processing_rangeData(data)\n",
    "            \n",
    "            st_data = np.abs(st_data)\n",
    "\n",
    "            op = np.average(st_data,axis=0)\n",
    "            \n",
    "            fil = st_data[1,:]                                           #filtering the data using a bandpass butterworth filter\n",
    "            filter = scipy.signal.butter(N = 7, btype='bandpass', Wn= [0.8/500,2/500], fs = 2, output = 'sos')\n",
    "            filtered = scipy.signal.sosfilt(filter, fil)\n",
    "\n",
    "            a = scipy.signal.find_peaks(filtered)[0]\n",
    "\n",
    "            heart_rate = ((len(a)*60)/15)                                   # heart rate calculation\n",
    "\n",
    "            print(\"Your heart rate is \" + str(heart_rate) + \"bpm.\")\n",
    "            if((heart_rate >=60) and (heart_rate<=100)):\n",
    "                print(\"You are resting now.\")\n",
    "            else:\n",
    "                print(\"You are anxious now. Calm down!\")\n",
    "            \n",
    "            raw_data = []"
   ]
  }
 ],
 "metadata": {
  "kernelspec": {
   "display_name": "Python 3",
   "language": "python",
   "name": "python3"
  },
  "language_info": {
   "codemirror_mode": {
    "name": "ipython",
    "version": 3
   },
   "file_extension": ".py",
   "mimetype": "text/x-python",
   "name": "python",
   "nbconvert_exporter": "python",
   "pygments_lexer": "ipython3",
   "version": "3.8.8"
  }
 },
 "nbformat": 4,
 "nbformat_minor": 5
}
